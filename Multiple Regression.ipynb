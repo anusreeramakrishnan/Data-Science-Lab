{
 "cells": [
  {
   "cell_type": "code",
   "execution_count": 1,
   "id": "2f0c2a5f",
   "metadata": {},
   "outputs": [],
   "source": [
    "import numpy as np\n",
    "import matplotlib.pyplot as plt\n",
    "import pandas as pd"
   ]
  },
  {
   "cell_type": "code",
   "execution_count": 4,
   "id": "15f62028",
   "metadata": {},
   "outputs": [],
   "source": [
    "dataset = pd.read_csv('diabetes.csv')"
   ]
  },
  {
   "cell_type": "code",
   "execution_count": 5,
   "id": "3bfc8211",
   "metadata": {},
   "outputs": [
    {
     "data": {
      "text/html": [
       "<div>\n",
       "<style scoped>\n",
       "    .dataframe tbody tr th:only-of-type {\n",
       "        vertical-align: middle;\n",
       "    }\n",
       "\n",
       "    .dataframe tbody tr th {\n",
       "        vertical-align: top;\n",
       "    }\n",
       "\n",
       "    .dataframe thead th {\n",
       "        text-align: right;\n",
       "    }\n",
       "</style>\n",
       "<table border=\"1\" class=\"dataframe\">\n",
       "  <thead>\n",
       "    <tr style=\"text-align: right;\">\n",
       "      <th></th>\n",
       "      <th>Pregnancies</th>\n",
       "      <th>Glucose</th>\n",
       "      <th>BloodPressure</th>\n",
       "      <th>SkinThickness</th>\n",
       "      <th>Insulin</th>\n",
       "      <th>BMI</th>\n",
       "      <th>DiabetesPedigreeFunction</th>\n",
       "      <th>Age</th>\n",
       "      <th>Outcome</th>\n",
       "    </tr>\n",
       "  </thead>\n",
       "  <tbody>\n",
       "    <tr>\n",
       "      <th>0</th>\n",
       "      <td>6</td>\n",
       "      <td>148</td>\n",
       "      <td>72</td>\n",
       "      <td>35</td>\n",
       "      <td>0</td>\n",
       "      <td>33.6</td>\n",
       "      <td>0.627</td>\n",
       "      <td>50</td>\n",
       "      <td>1</td>\n",
       "    </tr>\n",
       "    <tr>\n",
       "      <th>1</th>\n",
       "      <td>1</td>\n",
       "      <td>85</td>\n",
       "      <td>66</td>\n",
       "      <td>29</td>\n",
       "      <td>0</td>\n",
       "      <td>26.6</td>\n",
       "      <td>0.351</td>\n",
       "      <td>31</td>\n",
       "      <td>0</td>\n",
       "    </tr>\n",
       "    <tr>\n",
       "      <th>2</th>\n",
       "      <td>8</td>\n",
       "      <td>183</td>\n",
       "      <td>64</td>\n",
       "      <td>0</td>\n",
       "      <td>0</td>\n",
       "      <td>23.3</td>\n",
       "      <td>0.672</td>\n",
       "      <td>32</td>\n",
       "      <td>1</td>\n",
       "    </tr>\n",
       "    <tr>\n",
       "      <th>3</th>\n",
       "      <td>1</td>\n",
       "      <td>89</td>\n",
       "      <td>66</td>\n",
       "      <td>23</td>\n",
       "      <td>94</td>\n",
       "      <td>28.1</td>\n",
       "      <td>0.167</td>\n",
       "      <td>21</td>\n",
       "      <td>0</td>\n",
       "    </tr>\n",
       "    <tr>\n",
       "      <th>4</th>\n",
       "      <td>0</td>\n",
       "      <td>137</td>\n",
       "      <td>40</td>\n",
       "      <td>35</td>\n",
       "      <td>168</td>\n",
       "      <td>43.1</td>\n",
       "      <td>2.288</td>\n",
       "      <td>33</td>\n",
       "      <td>1</td>\n",
       "    </tr>\n",
       "  </tbody>\n",
       "</table>\n",
       "</div>"
      ],
      "text/plain": [
       "   Pregnancies  Glucose  BloodPressure  SkinThickness  Insulin   BMI  \\\n",
       "0            6      148             72             35        0  33.6   \n",
       "1            1       85             66             29        0  26.6   \n",
       "2            8      183             64              0        0  23.3   \n",
       "3            1       89             66             23       94  28.1   \n",
       "4            0      137             40             35      168  43.1   \n",
       "\n",
       "   DiabetesPedigreeFunction  Age  Outcome  \n",
       "0                     0.627   50        1  \n",
       "1                     0.351   31        0  \n",
       "2                     0.672   32        1  \n",
       "3                     0.167   21        0  \n",
       "4                     2.288   33        1  "
      ]
     },
     "execution_count": 5,
     "metadata": {},
     "output_type": "execute_result"
    }
   ],
   "source": [
    "dataset.head()"
   ]
  },
  {
   "cell_type": "code",
   "execution_count": 6,
   "id": "ed1ff244",
   "metadata": {},
   "outputs": [],
   "source": [
    "X = dataset.iloc[:, :-1]\n",
    "y = dataset.iloc[:, 4]"
   ]
  },
  {
   "cell_type": "code",
   "execution_count": 9,
   "id": "35971ef8",
   "metadata": {},
   "outputs": [],
   "source": [
    "Glucose=pd.get_dummies(X['Glucose'],drop_first=True)"
   ]
  },
  {
   "cell_type": "code",
   "execution_count": 10,
   "id": "21d14670",
   "metadata": {},
   "outputs": [],
   "source": [
    "X=X.drop('Glucose',axis=1)"
   ]
  },
  {
   "cell_type": "code",
   "execution_count": 11,
   "id": "ec893e65",
   "metadata": {},
   "outputs": [],
   "source": [
    "X=pd.concat([X,Glucose],axis=1)"
   ]
  },
  {
   "cell_type": "code",
   "execution_count": 12,
   "id": "6c406029",
   "metadata": {},
   "outputs": [],
   "source": [
    "from sklearn.model_selection import train_test_split\n",
    "X_train, X_test, y_train, y_test = train_test_split(X, y, test_size = 0.2, random_state = 0)"
   ]
  },
  {
   "cell_type": "code",
   "execution_count": 13,
   "id": "8908b031",
   "metadata": {},
   "outputs": [
    {
     "data": {
      "text/plain": [
       "LinearRegression()"
      ]
     },
     "execution_count": 13,
     "metadata": {},
     "output_type": "execute_result"
    }
   ],
   "source": [
    "from sklearn.linear_model import LinearRegression\n",
    "regressor = LinearRegression()\n",
    "regressor.fit(X_train, y_train)"
   ]
  },
  {
   "cell_type": "code",
   "execution_count": 14,
   "id": "607fd0c4",
   "metadata": {},
   "outputs": [],
   "source": [
    "y_pred = regressor.predict(X_test)"
   ]
  },
  {
   "cell_type": "code",
   "execution_count": 15,
   "id": "399cb3c3",
   "metadata": {},
   "outputs": [
    {
     "data": {
      "text/plain": [
       "array([-4.50571164e-14,  1.00000000e+02, -5.54510131e-14,  1.75000000e+02,\n",
       "       -6.53125541e-14,  4.00000000e+01,  1.71000000e+02,  1.56000000e+02,\n",
       "        2.75000000e+02,  1.90000000e+02,  2.45000000e+02,  2.07000000e+02,\n",
       "       -7.03567549e-14,  1.15000000e+02, -4.04159888e-14, -5.43939913e-14,\n",
       "        1.30000000e+02, -5.96350756e-14, -7.31703565e-14,  8.30000000e+01,\n",
       "       -5.77315490e-14, -8.17817473e-14, -9.09311111e-14, -7.98423671e-14,\n",
       "        1.40000000e+02, -3.84193239e-14, -4.64751305e-14,  1.40000000e+02,\n",
       "       -3.20013074e-14,  1.46611215e-15,  1.35000000e+02,  7.80000000e+01,\n",
       "        1.05000000e+02,  1.58000000e+02,  5.00000000e+01, -7.08301231e-14,\n",
       "        1.30000000e+02,  7.10000000e+01,  6.30000000e+01,  7.00000000e+01,\n",
       "        9.20000000e+01, -7.12972697e-14,  5.40000000e+01, -5.28181476e-14,\n",
       "        5.43000000e+02,  2.38602218e-14,  5.60000000e+01,  1.15000000e+02,\n",
       "        9.90000000e+01, -5.44404527e-14, -2.70974340e-14,  6.30000000e+01,\n",
       "        2.71000000e+02, -2.60490802e-14,  2.10000000e+02, -5.16519817e-14,\n",
       "       -1.99634531e-15, -9.28993252e-14, -4.95723253e-14,  2.57847773e-14,\n",
       "        2.31000000e+02,  2.93000000e+02, -6.06571711e-14, -8.50728717e-14,\n",
       "       -6.64736202e-14,  4.01227427e-14, -1.81114572e-13, -4.75857477e-14,\n",
       "       -4.78609431e-14, -3.22123649e-14, -6.25332165e-14, -6.03834346e-14,\n",
       "       -3.76504540e-14, -5.78853269e-14, -7.98909541e-14, -5.96972649e-14,\n",
       "        4.90000000e+01,  1.93000000e+02, -9.08047718e-14, -1.98178662e-13,\n",
       "       -6.85613815e-14,  2.04000000e+02,  1.25000000e+02,  8.20000000e+01,\n",
       "       -4.70755051e-14, -7.77606305e-14, -5.02559595e-14,  8.30000000e+01,\n",
       "        1.92000000e+02,  1.15000000e+02, -3.57371308e-14, -6.42304958e-14,\n",
       "        8.50000000e+01,  8.20000000e+01,  6.70000000e+01,  4.40000000e+01,\n",
       "        9.10000000e+01,  2.72000000e+02,  2.07000000e+02, -7.34279203e-14,\n",
       "        2.85000000e+02,  9.40000000e+01, -2.58341008e-14,  3.80000000e+01,\n",
       "       -4.09188357e-14, -2.86575464e-14,  1.20000000e+02, -5.42886091e-14,\n",
       "        6.40000000e+01, -1.32581498e-14,  1.60000000e+01,  1.75000000e+02,\n",
       "       -5.94428050e-14,  5.80000000e+01,  4.74000000e+02, -7.29094357e-14,\n",
       "        2.78000000e+02,  3.75000000e+02, -5.36413791e-14,  1.50000000e+02,\n",
       "       -5.83127377e-14, -7.94958101e-14,  1.40000000e+02, -3.52096148e-14,\n",
       "        6.10000000e+01, -5.17528373e-14,  1.55000000e+02, -3.88220758e-14,\n",
       "       -9.12145484e-14, -5.14645036e-14,  1.40000000e+02,  1.15549927e-14,\n",
       "       -1.08179927e-14,  5.79000000e+02,  7.90000000e+01, -2.14283988e-14,\n",
       "       -6.47941021e-14, -3.36060284e-14, -6.45612567e-14, -7.01570847e-14,\n",
       "        5.20000000e+01,  1.26000000e+02, -5.92725104e-14, -6.38887233e-14,\n",
       "       -6.73255502e-14, -4.36030123e-14,  2.30000000e+01, -1.02868686e-13,\n",
       "       -1.59434975e-13,  1.91000000e+02,  4.90000000e+01, -5.25017728e-14,\n",
       "        1.05000000e+02,  8.20000000e+01])"
      ]
     },
     "execution_count": 15,
     "metadata": {},
     "output_type": "execute_result"
    }
   ],
   "source": [
    "y_pred"
   ]
  },
  {
   "cell_type": "code",
   "execution_count": 16,
   "id": "48f53f11",
   "metadata": {},
   "outputs": [
    {
     "name": "stdout",
     "output_type": "stream",
     "text": [
      "1.0\n"
     ]
    }
   ],
   "source": [
    "from sklearn.metrics import r2_score\n",
    "score=r2_score(y_test,y_pred)\n",
    "print(score)"
   ]
  },
  {
   "cell_type": "code",
   "execution_count": null,
   "id": "90844416",
   "metadata": {},
   "outputs": [],
   "source": []
  }
 ],
 "metadata": {
  "kernelspec": {
   "display_name": "Python 3",
   "language": "python",
   "name": "python3"
  },
  "language_info": {
   "codemirror_mode": {
    "name": "ipython",
    "version": 3
   },
   "file_extension": ".py",
   "mimetype": "text/x-python",
   "name": "python",
   "nbconvert_exporter": "python",
   "pygments_lexer": "ipython3",
   "version": "3.6.4"
  }
 },
 "nbformat": 4,
 "nbformat_minor": 5
}
